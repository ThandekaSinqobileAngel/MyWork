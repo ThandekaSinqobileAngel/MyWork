{
 "cells": [
  {
   "cell_type": "code",
   "execution_count": null,
   "id": "a20f504d",
   "metadata": {},
   "outputs": [],
   "source": [
    "# The user enters username and password.\n",
    "# The credentials are stored in user.txt file.\n",
    "# If the user enters incorrect credentials. An error message is displayed.\n",
    "# Until the user enters a valid credentials, the program prompt user for credentials.\n",
    "\n",
    "'''Capstone template project for FCS Task 19 Compulsory task 1.\n",
    "This template provides a skeleton code to start compulsory task 1 only.\n",
    "Once you have successfully implemented compulsory task 1 it will be easier to\n",
    "add a code for compulsory task 2 to complete this capstone'''\n",
    "\n",
    "#=====importing libraries===========\n",
    "'''This is the section where you will import libraries'''\n",
    "\n",
    "#====Login Section====\n",
    "'''Here you will write code that will allow a user to login.\n",
    "    - Your code must read usernames and password from the user.txt file\n",
    "    - You can use a list or dictionary to store a list of usernames and passwords from the file.\n",
    "    - Use a while loop to validate your user name and password.\n",
    "    \n",
    "'''\n",
    "\n",
    "\n",
    "while True:\n",
    "    #presenting the menu to the user and \n",
    "    # making sure that the user input is coneverted to lower case.\n",
    "    menu = input('''Select one of the following Options below:\n",
    "r - Registering a user\n",
    "a - Adding a task\n",
    "va - View all tasks\n",
    "vm - view my task\n",
    "e - Exit\n",
    ": ''').lower()\n",
    "\n",
    "    if menu == 'r':\n",
    "        pass\n",
    "        '''In this block you will write code to add a new user to the user.txt file\n",
    "        - You can follow the following steps:\n",
    "            - Request input of a new username\n",
    "            - Request input of a new password\n",
    "            - Request input of password confirmation.\n",
    "            - Check if the new password and confirmed password are the same.\n",
    "            - If they are the same, add them to the user.txt file,\n",
    "            - Otherwise you present a relevant message.'''\n",
    "\n",
    "    elif menu == 'a':\n",
    "        pass\n",
    "        '''In this block you will put code that will allow a user to add a new task to task.txt file\n",
    "        - You can follow these steps:\n",
    "            - Prompt a user for the following: \n",
    "                - A username of the person whom the task is assigned to,\n",
    "                - A title of a task,\n",
    "                - A description of the task and \n",
    "                - the due date of the task.\n",
    "            - Then get the current date.\n",
    "            - Add the data to the file task.txt and\n",
    "            - You must remember to include the 'No' to indicate if the task is complete.'''\n",
    "\n",
    "    elif menu == 'va':\n",
    "        pass\n",
    "        '''In this block you will put code so that the program will read the task from task.txt file and\n",
    "         print to the console in the format of Output 2 presented in the L1T19 pdf file page 6\n",
    "         You can do it in this way:\n",
    "            - Read a line from the file.\n",
    "            - Split that line where there is comma and space.\n",
    "            - Then print the results in the format shown in the Output 2 in L1T19 pdf\n",
    "            - It is much easier to read a file using a for loop.'''\n",
    "\n",
    "    elif menu == 'vm':\n",
    "        pass\n",
    "        '''In this block you will put code the that will read the task from task.txt file and\n",
    "         print to the console in the format of Output 2 presented in the L1T19 pdf\n",
    "         You can do it in this way:\n",
    "            - Read a line from the file\n",
    "            - Split the line where there is comma and space.\n",
    "            - Check if the username of the person logged in is the same as the username you have\n",
    "            read from the file.\n",
    "            - If they are the same you print the task in the format of output 2 shown in L1T19 pdf '''\n",
    "\n",
    "    elif menu == 'e':\n",
    "        print('Goodbye!!!')\n",
    "        exit()\n",
    "\n",
    "    else:\n",
    "        print(\"You have made a wrong choice, Please Try again\")"
   ]
  },
  {
   "cell_type": "code",
   "execution_count": 1,
   "id": "142cab09",
   "metadata": {},
   "outputs": [
    {
     "name": "stdout",
     "output_type": "stream",
     "text": [
      "Hello\n"
     ]
    }
   ],
   "source": [
    "new_string = 'Hello world'\n",
    "fizz = new_string[0:5]\n",
    "print(fizz)"
   ]
  }
 ],
 "metadata": {
  "kernelspec": {
   "display_name": "Python 3 (ipykernel)",
   "language": "python",
   "name": "python3"
  },
  "language_info": {
   "codemirror_mode": {
    "name": "ipython",
    "version": 3
   },
   "file_extension": ".py",
   "mimetype": "text/x-python",
   "name": "python",
   "nbconvert_exporter": "python",
   "pygments_lexer": "ipython3",
   "version": "3.9.12"
  }
 },
 "nbformat": 4,
 "nbformat_minor": 5
}
